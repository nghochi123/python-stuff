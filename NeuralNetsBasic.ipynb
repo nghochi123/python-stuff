{
  "nbformat": 4,
  "nbformat_minor": 0,
  "metadata": {
    "colab": {
      "name": "Untitled0.ipynb",
      "provenance": [],
      "collapsed_sections": [],
      "toc_visible": true,
      "authorship_tag": "ABX9TyNjfhniN/QgoD/D13fFfxZs",
      "include_colab_link": true
    },
    "kernelspec": {
      "name": "python3",
      "display_name": "Python 3"
    },
    "language_info": {
      "name": "python"
    }
  },
  "cells": [
    {
      "cell_type": "markdown",
      "metadata": {
        "id": "view-in-github",
        "colab_type": "text"
      },
      "source": [
        "<a href=\"https://colab.research.google.com/github/nghochi123/python-stuff/blob/master/NeuralNetsBasic.ipynb\" target=\"_parent\"><img src=\"https://colab.research.google.com/assets/colab-badge.svg\" alt=\"Open In Colab\"/></a>"
      ]
    },
    {
      "cell_type": "code",
      "metadata": {
        "id": "8gKjqOFexgDa"
      },
      "source": [
        "import pandas as pd\n",
        "import numpy as np\n",
        "import seaborn as sns"
      ],
      "execution_count": null,
      "outputs": []
    },
    {
      "cell_type": "code",
      "metadata": {
        "colab": {
          "resources": {
            "http://localhost:8080/nbextensions/google.colab/files.js": {
              "data": "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",
              "ok": true,
              "headers": [
                [
                  "content-type",
                  "application/javascript"
                ]
              ],
              "status": 200,
              "status_text": "OK"
            }
          },
          "base_uri": "https://localhost:8080/",
          "height": 74
        },
        "id": "fyGKC60tSS-q",
        "outputId": "195c7977-8a56-4591-da23-3fcdc484bc3a"
      },
      "source": [
        "from google.colab import files\n",
        "uploaded = files.upload()"
      ],
      "execution_count": null,
      "outputs": [
        {
          "output_type": "display_data",
          "data": {
            "text/html": [
              "\n",
              "     <input type=\"file\" id=\"files-8c4a3793-5f84-455d-bd40-b09e57db014c\" name=\"files[]\" multiple disabled\n",
              "        style=\"border:none\" />\n",
              "     <output id=\"result-8c4a3793-5f84-455d-bd40-b09e57db014c\">\n",
              "      Upload widget is only available when the cell has been executed in the\n",
              "      current browser session. Please rerun this cell to enable.\n",
              "      </output>\n",
              "      <script src=\"/nbextensions/google.colab/files.js\"></script> "
            ],
            "text/plain": [
              "<IPython.core.display.HTML object>"
            ]
          },
          "metadata": {
            "tags": []
          }
        },
        {
          "output_type": "stream",
          "text": [
            "Saving fake_reg.csv to fake_reg.csv\n"
          ],
          "name": "stdout"
        }
      ]
    },
    {
      "cell_type": "code",
      "metadata": {
        "id": "LbewEzOJShmY"
      },
      "source": [
        "import io"
      ],
      "execution_count": null,
      "outputs": []
    },
    {
      "cell_type": "code",
      "metadata": {
        "id": "ggrLL-ZkTJ0j"
      },
      "source": [
        "df = pd.read_csv(io.BytesIO(uploaded['fake_reg.csv']))"
      ],
      "execution_count": null,
      "outputs": []
    },
    {
      "cell_type": "code",
      "metadata": {
        "colab": {
          "base_uri": "https://localhost:8080/",
          "height": 206
        },
        "id": "EJd-o6tzTNjl",
        "outputId": "f4b7b02b-2812-4485-9273-2ffffdbdcd5a"
      },
      "source": [
        "df.head()"
      ],
      "execution_count": null,
      "outputs": [
        {
          "output_type": "execute_result",
          "data": {
            "text/html": [
              "<div>\n",
              "<style scoped>\n",
              "    .dataframe tbody tr th:only-of-type {\n",
              "        vertical-align: middle;\n",
              "    }\n",
              "\n",
              "    .dataframe tbody tr th {\n",
              "        vertical-align: top;\n",
              "    }\n",
              "\n",
              "    .dataframe thead th {\n",
              "        text-align: right;\n",
              "    }\n",
              "</style>\n",
              "<table border=\"1\" class=\"dataframe\">\n",
              "  <thead>\n",
              "    <tr style=\"text-align: right;\">\n",
              "      <th></th>\n",
              "      <th>price</th>\n",
              "      <th>feature1</th>\n",
              "      <th>feature2</th>\n",
              "    </tr>\n",
              "  </thead>\n",
              "  <tbody>\n",
              "    <tr>\n",
              "      <th>0</th>\n",
              "      <td>461.527929</td>\n",
              "      <td>999.787558</td>\n",
              "      <td>999.766096</td>\n",
              "    </tr>\n",
              "    <tr>\n",
              "      <th>1</th>\n",
              "      <td>548.130011</td>\n",
              "      <td>998.861615</td>\n",
              "      <td>1001.042403</td>\n",
              "    </tr>\n",
              "    <tr>\n",
              "      <th>2</th>\n",
              "      <td>410.297162</td>\n",
              "      <td>1000.070267</td>\n",
              "      <td>998.844015</td>\n",
              "    </tr>\n",
              "    <tr>\n",
              "      <th>3</th>\n",
              "      <td>540.382220</td>\n",
              "      <td>999.952251</td>\n",
              "      <td>1000.440940</td>\n",
              "    </tr>\n",
              "    <tr>\n",
              "      <th>4</th>\n",
              "      <td>546.024553</td>\n",
              "      <td>1000.446011</td>\n",
              "      <td>1000.338531</td>\n",
              "    </tr>\n",
              "  </tbody>\n",
              "</table>\n",
              "</div>"
            ],
            "text/plain": [
              "        price     feature1     feature2\n",
              "0  461.527929   999.787558   999.766096\n",
              "1  548.130011   998.861615  1001.042403\n",
              "2  410.297162  1000.070267   998.844015\n",
              "3  540.382220   999.952251  1000.440940\n",
              "4  546.024553  1000.446011  1000.338531"
            ]
          },
          "metadata": {
            "tags": []
          },
          "execution_count": 5
        }
      ]
    },
    {
      "cell_type": "code",
      "metadata": {
        "colab": {
          "base_uri": "https://localhost:8080/",
          "height": 568
        },
        "id": "tq_URcHBTOi2",
        "outputId": "842ef717-e20a-47ef-8616-dbaacbdf4689"
      },
      "source": [
        "sns.pairplot(df)"
      ],
      "execution_count": null,
      "outputs": [
        {
          "output_type": "execute_result",
          "data": {
            "text/plain": [
              "<seaborn.axisgrid.PairGrid at 0x7f926e520990>"
            ]
          },
          "metadata": {
            "tags": []
          },
          "execution_count": 6
        },
        {
          "output_type": "display_data",
          "data": {
            "image/png": "[encoded data removed]",
            "text/plain": [
              "<Figure size 540x540 with 12 Axes>"
            ]
          },
          "metadata": {
            "tags": [],
            "needs_background": "light"
          }
        }
      ]
    },
    {
      "cell_type": "code",
      "metadata": {
        "id": "k2ZMwDpQUQKg"
      },
      "source": [
        "from sklearn.model_selection import train_test_split"
      ],
      "execution_count": null,
      "outputs": []
    },
    {
      "cell_type": "code",
      "metadata": {
        "id": "5BDCnTqvUcKh"
      },
      "source": [
        "X = df[['feature1', 'feature2']].values"
      ],
      "execution_count": null,
      "outputs": []
    },
    {
      "cell_type": "code",
      "metadata": {
        "id": "zPvgxx9sUhKH"
      },
      "source": [
        "y = df['price'].values"
      ],
      "execution_count": null,
      "outputs": []
    },
    {
      "cell_type": "code",
      "metadata": {
        "colab": {
          "base_uri": "https://localhost:8080/"
        },
        "id": "xzZBlSiDUkCV",
        "outputId": "3bbdd484-eee4-47ca-d9aa-2325893b680c"
      },
      "source": [
        "X"
      ],
      "execution_count": null,
      "outputs": [
        {
          "output_type": "execute_result",
          "data": {
            "text/plain": [
              "array([[ 999.78755752,  999.7660962 ],\n",
              "       [ 998.86161491, 1001.04240315],\n",
              "       [1000.07026691,  998.84401463],\n",
              "       ...,\n",
              "       [1001.45164617,  998.84760554],\n",
              "       [1000.77102275,  998.56285086],\n",
              "       [ 999.2322436 , 1001.45140713]])"
            ]
          },
          "metadata": {
            "tags": []
          },
          "execution_count": 10
        }
      ]
    },
    {
      "cell_type": "code",
      "metadata": {
        "colab": {
          "base_uri": "https://localhost:8080/"
        },
        "id": "tlSHIGkBUomU",
        "outputId": "e13e89b1-d05c-43e5-cb12-12e9b39ae996"
      },
      "source": [
        "y"
      ],
      "execution_count": null,
      "outputs": [
        {
          "output_type": "execute_result",
          "data": {
            "text/plain": [
              "array([461.52792939, 548.13001146, 410.29716167, 540.38221981,\n",
              "       546.02455292, 542.9836716 , 555.48566416, 417.56972453,\n",
              "       373.14653122, 633.35029248, 624.24709206, 475.37241721,\n",
              "       600.36844486, 532.83295175, 472.8353628 , 506.31229096,\n",
              "       508.414406  , 610.4553519 , 323.65776198, 446.21230389,\n",
              "       362.12270299, 433.41064026, 562.00257647, 637.30962074,\n",
              "       522.80800754, 469.8028243 , 543.10992778, 565.43416994,\n",
              "       530.03285381, 610.58016503, 482.55641188, 327.56004052,\n",
              "       579.73083872, 448.42981468, 628.97709187, 536.79737216,\n",
              "       570.06729543, 357.82557519, 612.08492732, 444.67970846,\n",
              "       600.1186364 , 523.53312776, 512.94994495, 614.8813169 ,\n",
              "       404.35303251, 643.68851807, 488.95660398, 443.20468572,\n",
              "       514.47906638, 514.88174058, 325.05852217, 554.6620585 ,\n",
              "       451.39140001, 587.67887726, 477.73749721, 574.51560687,\n",
              "       548.9107991 , 528.69088356, 443.21100482, 397.88209319,\n",
              "       355.79535223, 460.69478138, 534.7673737 , 537.6067329 ,\n",
              "       603.66990347, 547.27579153, 567.30862153, 454.32901321,\n",
              "       492.60451447, 643.13593178, 477.4305163 , 497.41251837,\n",
              "       559.04378534, 576.67843837, 292.1917811 , 542.99539996,\n",
              "       547.73198239, 507.43439141, 408.12200074, 595.43348561,\n",
              "       463.3552036 , 468.35698045, 462.00480189, 410.35912407,\n",
              "       467.46059552, 497.23978613, 411.63794464, 583.06598409,\n",
              "       441.95036691, 536.04090915, 530.98717439, 364.50842093,\n",
              "       626.06865169, 434.62971003, 523.02344198, 484.10880902,\n",
              "       411.57560703, 722.26394433, 519.46299177, 558.50321048,\n",
              "       526.24297782, 531.27754687, 470.89067007, 459.92494538,\n",
              "       577.58298501, 599.90573138, 584.92843756, 357.34223391,\n",
              "       392.04726871, 515.77844597, 390.2092368 , 497.49148239,\n",
              "       506.74032509, 395.51477512, 239.65626376, 507.6052943 ,\n",
              "       628.84940437, 468.07324688, 444.9447339 , 527.31719596,\n",
              "       415.44298463, 363.4303791 , 591.86909195, 391.12466656,\n",
              "       526.1019196 , 402.00959595, 563.67781737, 362.24018346,\n",
              "       514.31349869, 322.31435197, 513.519732  , 340.05814212,\n",
              "       560.79471778, 489.79459784, 381.07367881, 558.34939279,\n",
              "       451.8041724 , 451.79140134, 442.17202786, 488.78691774,\n",
              "       433.09376956, 518.00709658, 511.69454654, 334.89459622,\n",
              "       490.78489309, 510.46356567, 565.02540892, 542.30140508,\n",
              "       655.42619806, 433.51753016, 373.06190748, 517.32199998,\n",
              "       609.96955536, 401.28033698, 540.74381886, 410.53824963,\n",
              "       441.7417974 , 448.70138654, 377.57042607, 450.85178618,\n",
              "       695.08064351, 548.94851249, 479.70887661, 345.01181992,\n",
              "       576.85255167, 337.95129476, 466.8394786 , 429.91541295,\n",
              "       567.88189283, 422.77852605, 559.7847254 , 503.75687251,\n",
              "       355.35228879, 622.37147383, 450.9760715 , 591.71413509,\n",
              "       522.42993416, 474.08634639, 423.05243386, 466.70445806,\n",
              "       481.92547045, 362.91867606, 566.05763935, 457.05958811,\n",
              "       580.88060484, 497.33921897, 519.17237518, 640.40485258,\n",
              "       477.25839763, 506.50370548, 634.2482933 , 311.87137765,\n",
              "       556.61215428, 446.36031515, 543.83027912, 617.61509904,\n",
              "       491.55128715, 441.90522674, 418.45717839, 524.47348399,\n",
              "       483.13482709, 622.99764305, 424.60840775, 515.14753991,\n",
              "       496.89047668, 534.23436696, 627.3802761 , 460.02329028,\n",
              "       338.13384172, 397.62059618, 562.05793604, 504.69389644,\n",
              "       490.99787402, 361.42640522, 608.12804021, 625.07938608,\n",
              "       461.38078609, 533.07210805, 438.26540597, 404.14239475,\n",
              "       458.52789767, 455.13953399, 521.87959462, 507.09798982,\n",
              "       480.80694031, 539.68399729, 376.32625533, 449.458484  ,\n",
              "       457.77794629, 531.16341758, 599.81185581, 526.67361757,\n",
              "       512.1515175 , 510.02950867, 391.26547583, 593.6677957 ,\n",
              "       415.60708684, 469.07283863, 485.22477592, 354.92884232,\n",
              "       316.63684801, 464.44494809, 649.39591652, 474.02501346,\n",
              "       551.56006043, 631.88915741, 597.71257172, 532.62879772,\n",
              "       445.58282142, 599.92382612, 375.95938044, 581.90748483,\n",
              "       464.9944057 , 417.23887206, 570.6460653 , 414.754452  ,\n",
              "       578.22402034, 405.92898949, 626.6797543 , 484.01952653,\n",
              "       275.33337527, 531.66193891, 223.34679276, 637.77896908,\n",
              "       553.87999612, 487.7379163 , 439.09025956, 378.04069831,\n",
              "       379.23669121, 537.12524033, 553.12387811, 505.69270877,\n",
              "       421.53806534, 510.88504979, 567.19470601, 697.70715802,\n",
              "       388.74663225, 578.32901814, 734.2765031 , 449.32814488,\n",
              "       512.04904895, 357.29591446, 360.23212493, 395.12045332,\n",
              "       423.70001699, 443.80983891, 595.96581968, 515.56181283,\n",
              "       531.9290881 , 530.13508628, 448.63240577, 527.61587693,\n",
              "       453.45829752, 417.54122635, 656.97308566, 546.23137991,\n",
              "       492.93591939, 379.90913372, 511.36670783, 503.51419982,\n",
              "       519.46055247, 611.14763688, 411.05157782, 403.41301547,\n",
              "       496.75415064, 466.00440866, 528.12861343, 633.45125327,\n",
              "       567.04497795, 435.09849106, 537.92888483, 452.71044444,\n",
              "       609.3840753 , 396.1965711 , 504.43137263, 626.69427794,\n",
              "       493.01201779, 724.47187575, 713.46667346, 565.19184559,\n",
              "       551.57372795, 451.89764782, 565.96723066, 367.7919044 ,\n",
              "       576.32144345, 579.42843094, 489.09760772, 487.18793877,\n",
              "       621.11885596, 481.90704139, 700.98368025, 599.99118092,\n",
              "       522.35888373, 646.8239136 , 568.61318745, 511.29824533,\n",
              "       760.65101669, 304.43261518, 543.32064222, 399.86651896,\n",
              "       585.16821441, 484.229812  , 425.84365096, 550.47494925,\n",
              "       325.79480263, 364.03501381, 439.49653517, 518.26312427,\n",
              "       693.9884929 , 512.59570173, 257.71199724, 524.32438029,\n",
              "       402.1955134 , 579.85178649, 476.07122974, 411.18423872,\n",
              "       367.76354239, 400.63495186, 609.58070746, 612.47025609,\n",
              "       366.3818868 , 485.50390003, 443.39703561, 479.56906767,\n",
              "       559.69848911, 432.82161991, 328.20550401, 524.37119547,\n",
              "       552.77893509, 630.61363933, 424.81078609, 375.13754715,\n",
              "       338.93370122, 574.74001083, 355.81485125, 378.79339707,\n",
              "       555.99978702, 642.3708192 , 347.87631327, 330.08230225,\n",
              "       392.70436827, 519.32640956, 612.7537015 , 469.24686052,\n",
              "       460.31999098, 646.25928592, 452.73449935, 446.6617038 ,\n",
              "       392.57787377, 419.11235041, 485.67140382, 533.55074599,\n",
              "       558.68796948, 433.41514433, 572.67843212, 474.34929884,\n",
              "       587.45566743, 603.60488162, 679.89502292, 454.02841184,\n",
              "       641.29636111, 523.12643425, 451.86441942, 369.91451298,\n",
              "       602.12024979, 589.28379767, 552.35874313, 497.82077751,\n",
              "       645.7084402 , 299.39441419, 416.37530318, 371.22410361,\n",
              "       305.42221221, 476.19497523, 718.25653986, 481.64581321,\n",
              "       449.79721212, 423.13089618, 487.23276805, 486.74414447,\n",
              "       333.08087339, 560.13543661, 711.65777328, 424.61108821,\n",
              "       367.88499002, 502.8467149 , 661.16436862, 422.44243544,\n",
              "       612.72791033, 526.44751951, 462.88163084, 574.57837765,\n",
              "       477.80625993, 431.18869681, 596.27161677, 367.04561733,\n",
              "       610.29650189, 573.83826959, 561.6815936 , 316.9505926 ,\n",
              "       353.78339461, 462.24239731, 395.74531349, 461.17944502,\n",
              "       265.31883491, 516.28603756, 495.54358534, 655.0298841 ,\n",
              "       361.96928555, 383.93441552, 339.21223298, 438.97699136,\n",
              "       518.36039543, 587.06918986, 513.58851064, 541.1289475 ,\n",
              "       318.2422866 , 407.41050587, 401.53996228, 530.27625921,\n",
              "       421.52951149, 509.05805746, 460.1838563 , 387.89272462,\n",
              "       560.93779062, 586.55980649, 426.36278463, 479.91915661,\n",
              "       525.70465661, 555.42087135, 530.68301453, 469.87238663,\n",
              "       606.31505182, 364.85210784, 360.16078118, 425.10615848,\n",
              "       365.56087755, 480.23012282, 533.48426265, 477.32136011,\n",
              "       685.07306529, 595.85363797, 510.87857855, 403.69954917,\n",
              "       493.96420737, 368.9200954 , 549.84762007, 601.76780838,\n",
              "       508.20389135, 418.93004519, 564.36822362, 604.11066099,\n",
              "       599.28050672, 527.88077226, 547.07286694, 576.8926402 ,\n",
              "       491.80281223, 518.70630218, 532.62653164, 685.21654079,\n",
              "       441.38724011, 315.51892903, 581.51143808, 585.15669192,\n",
              "       481.20614899, 470.46051802, 535.54367583, 489.05755196,\n",
              "       731.50955837, 539.7932304 , 421.26795581, 480.59911503,\n",
              "       530.21039882, 464.11587006, 633.4727288 , 449.41611879,\n",
              "       635.34706613, 537.24922805, 572.38065064, 553.90462877,\n",
              "       616.51060101, 402.29631873, 456.89995237, 505.74726413,\n",
              "       601.63849578, 510.88661196, 556.83209711, 379.10982057,\n",
              "       453.49681218, 594.68664574, 567.46368769, 498.9283394 ,\n",
              "       413.10071452, 437.18179741, 699.73384102, 351.42908062,\n",
              "       593.23051938, 544.18131004, 438.76371594, 446.87698755,\n",
              "       471.99435967, 461.14062423, 689.1734889 , 521.79699247,\n",
              "       603.88757737, 655.39140319, 369.78582541, 509.84188626,\n",
              "       475.17585767, 338.0902386 , 480.80616796, 587.30777032,\n",
              "       503.39000141, 518.12788339, 506.33929863, 647.36155957,\n",
              "       453.13824142, 396.04998476, 612.50533943, 618.93363459,\n",
              "       524.56895456, 666.06222545, 657.95491426, 496.06904958,\n",
              "       524.38393835, 461.49048992, 433.99838446, 572.31305385,\n",
              "       451.92641532, 362.68807582, 514.89474416, 427.36956977,\n",
              "       435.51362445, 566.27172557, 452.37238329, 375.62302356,\n",
              "       466.49020065, 465.17802914, 405.40016562, 427.74126221,\n",
              "       358.85061321, 481.53346268, 358.68011197, 375.31180205,\n",
              "       550.14246248, 556.54397565, 595.38094652, 512.58377753,\n",
              "       665.04739236, 549.29054549, 569.87336031, 550.29340062,\n",
              "       607.41940296, 617.37737732, 613.42662915, 604.57261409,\n",
              "       516.98581378, 401.89505573, 448.55357219, 475.94699622,\n",
              "       501.89188819, 498.6284209 , 474.2054026 , 568.60477798,\n",
              "       698.41041396, 550.89673991, 481.52436972, 498.46359085,\n",
              "       515.90099007, 478.08030334, 562.84736681, 578.52385723,\n",
              "       564.9556813 , 497.46472684, 526.34259721, 568.73205922,\n",
              "       439.65054024, 624.99250404, 370.74177754, 553.07681733,\n",
              "       414.85687715, 448.51914416, 347.1911182 , 631.56069392,\n",
              "       527.05754159, 553.32419751, 514.40564086, 444.05469284,\n",
              "       341.68789552, 565.24995494, 436.55494972, 548.61436053,\n",
              "       501.62206015, 362.24928105, 309.35587863, 435.26155328,\n",
              "       428.31614877, 308.22343125, 536.59066876, 774.40785445,\n",
              "       428.84321279, 552.88912902, 297.29389413, 637.85870827,\n",
              "       564.11153791, 648.01014932, 404.12928655, 508.82552564,\n",
              "       539.54049318, 467.66852221, 489.12458007, 571.18829179,\n",
              "       497.72274826, 396.92876859, 414.11072814, 406.28845394,\n",
              "       579.55848998, 406.6160671 , 515.21520276, 564.18681488,\n",
              "       578.58860646, 408.28620182, 581.54252662, 667.4812481 ,\n",
              "       622.86551828, 500.13304581, 379.13131207, 502.71948002,\n",
              "       343.73541799, 441.48474021, 499.21235117, 542.36204897,\n",
              "       547.62404325, 535.92947542, 461.52076712, 529.4394398 ,\n",
              "       521.61588724, 547.71292837, 584.38110772, 465.99980649,\n",
              "       489.99646515, 634.5322379 , 639.81836225, 500.7218448 ,\n",
              "       514.69378589, 380.13984916, 402.78860922, 507.44318662,\n",
              "       516.66204986, 246.73972006, 345.85149947, 728.54158643,\n",
              "       593.47480723, 623.05449555, 466.78702434, 524.96702947,\n",
              "       695.77282817, 498.19000033, 420.23890075, 449.25967508,\n",
              "       518.34877268, 608.64466352, 476.08427344, 425.4599912 ,\n",
              "       388.0260642 , 595.54443191, 606.21795936, 502.35831316,\n",
              "       470.9635849 , 565.07689035, 570.16851237, 505.63188399,\n",
              "       443.18691766, 387.64605588, 592.7579165 , 528.1454695 ,\n",
              "       610.09170764, 543.3237843 , 651.39612886, 552.91452026,\n",
              "       662.92504623, 571.70626262, 521.7744574 , 565.9362005 ,\n",
              "       526.29247961, 525.55617773, 547.12901446, 556.38156913,\n",
              "       643.55257205, 310.19085317, 316.97373493, 581.24757434,\n",
              "       675.76026898, 637.27161099, 503.27065876, 386.83158001,\n",
              "       449.22797293, 624.15619847, 708.0181058 , 436.66965907,\n",
              "       582.4550663 , 523.15977914, 454.01363039, 458.33002662,\n",
              "       553.13406068, 575.68656759, 399.74690881, 479.03778184,\n",
              "       377.13616236, 611.84754884, 457.69568614, 320.68694051,\n",
              "       607.66473078, 431.47987323, 536.00593624, 487.25310045,\n",
              "       357.11605236, 406.97496006, 367.88456147, 352.28258718,\n",
              "       428.43268624, 674.31102047, 455.03533539, 493.53818767,\n",
              "       323.74660823, 570.87438588, 522.35358676, 512.37078567,\n",
              "       344.445388  , 603.44292484, 494.19769248, 623.10445015,\n",
              "       615.5627227 , 501.09520221, 460.4308638 , 511.19375671,\n",
              "       619.10478486, 425.20422156, 439.38667763, 609.7226948 ,\n",
              "       520.97315983, 564.91022293, 574.57307473, 273.43263798,\n",
              "       416.57967214, 414.00400534, 602.54914671, 501.81396346,\n",
              "       657.25888889, 545.58520276, 363.11433585, 587.10134867,\n",
              "       535.98312568, 357.044414  , 543.91850962, 487.46952396,\n",
              "       491.03773416, 618.12341696, 442.93357949, 528.44015453,\n",
              "       492.87327105, 497.04387645, 606.29736199, 368.90204456,\n",
              "       463.83315596, 411.35636173, 670.21237633, 408.52236362,\n",
              "       484.43638366, 492.6419263 , 381.85298995, 613.95995262,\n",
              "       327.36024129, 491.79240663, 585.44412785, 380.3945669 ,\n",
              "       554.7626666 , 493.85668075, 526.2107462 , 385.39655988,\n",
              "       484.46159148, 332.22764352, 564.67207171, 649.44006825,\n",
              "       424.72778986, 618.08695111, 511.89276394, 331.12168828,\n",
              "       558.16409431, 493.56964948, 396.05573683, 631.37140169,\n",
              "       478.44486619, 628.54499456, 499.75474684, 506.8234736 ,\n",
              "       258.64403747, 478.35823792, 460.54250824, 552.62665953,\n",
              "       519.60816751, 456.98761551, 562.62597526, 560.98721013,\n",
              "       588.24268147, 579.43065472, 490.68891134, 372.77743562,\n",
              "       677.27628686, 420.76621323, 478.08636807, 608.79918051,\n",
              "       498.40036414, 351.09008918, 604.7965235 , 584.29415078,\n",
              "       552.36859639, 514.85636404, 324.75278473, 551.65009963,\n",
              "       646.42137115, 412.01627785, 542.05581314, 376.82027575,\n",
              "       485.65542199, 530.00104432, 531.48237221, 502.90170221,\n",
              "       320.22783441, 410.17228689, 307.49262471, 414.32154328,\n",
              "       429.47259522, 611.37280691, 579.49800824, 645.84815363,\n",
              "       528.21987259, 487.29933081, 530.99314592, 374.19760282,\n",
              "       453.82582684, 535.04562659, 381.36832678, 657.71868008,\n",
              "       403.06256371, 502.40592148, 612.48716221, 473.14373027,\n",
              "       648.49853653, 477.59301587, 478.85719007, 469.11310605,\n",
              "       558.87741587, 560.67805186, 484.56010504, 602.9701103 ,\n",
              "       501.88831717, 296.98984675, 409.95257743, 429.21452014,\n",
              "       529.71971585, 503.21614081, 656.65474461, 378.81430465,\n",
              "       627.64016416, 420.35676968, 347.19521436, 559.96108847,\n",
              "       437.90401436, 382.48198573, 446.61250992, 578.94348317,\n",
              "       427.85700338, 563.58363749, 603.55869587, 445.94046658,\n",
              "       577.31665049, 453.9716661 , 367.16096642, 591.50358214,\n",
              "       404.90316218, 403.90327413, 425.48260511, 657.80019814,\n",
              "       664.50877632, 503.05044876, 518.66756145, 544.49878325,\n",
              "       409.67675815, 338.5727094 , 427.48699506, 349.71799435,\n",
              "       434.38654316, 549.93636627, 524.5896561 , 502.90947332,\n",
              "       342.05906592, 622.03205011, 654.83912076, 434.69375374,\n",
              "       470.5546375 , 380.47707861, 560.3817655 , 549.2573511 ,\n",
              "       494.25163915, 450.42484415, 594.84047708, 412.90687671,\n",
              "       433.42313493, 512.04979227, 478.04811801, 413.29973991,\n",
              "       415.84564074, 511.58583419, 472.89142434, 657.93173622,\n",
              "       560.66409232, 587.74308283, 472.06766427, 390.86267833,\n",
              "       329.06703513, 526.72673086, 452.10238608, 413.87226234,\n",
              "       666.44170815, 487.7692307 , 560.63785511, 449.81047626,\n",
              "       499.94830987, 429.26772106, 508.91176483, 546.20393322,\n",
              "       621.59703226, 413.84178036, 449.02606966, 447.05319043,\n",
              "       595.48648065, 480.87733296, 667.70856487, 594.60958875,\n",
              "       600.04329091, 508.19978205, 359.19507992, 365.88328071,\n",
              "       576.73842525, 515.32519058, 423.65453319, 543.49227764,\n",
              "       577.29292367, 421.05894642, 625.08018462, 434.27528283,\n",
              "       657.73425067, 518.35614426, 481.86280607, 476.52607826,\n",
              "       457.31318609, 456.72099249, 403.31557562, 599.36709348])"
            ]
          },
          "metadata": {
            "tags": []
          },
          "execution_count": 11
        }
      ]
    },
    {
      "cell_type": "code",
      "metadata": {
        "id": "8y3v_RwLUpew"
      },
      "source": [
        "X_train, X_test, y_train, y_test = train_test_split(X,y,test_size=0.3, random_state=42)"
      ],
      "execution_count": null,
      "outputs": []
    },
    {
      "cell_type": "code",
      "metadata": {
        "colab": {
          "base_uri": "https://localhost:8080/"
        },
        "id": "zgsEgKUaUzro",
        "outputId": "173c32b5-79b8-45f4-ae8d-152a85c6de51"
      },
      "source": [
        "X_train.shape"
      ],
      "execution_count": null,
      "outputs": [
        {
          "output_type": "execute_result",
          "data": {
            "text/plain": [
              "(700, 2)"
            ]
          },
          "metadata": {
            "tags": []
          },
          "execution_count": 13
        }
      ]
    },
    {
      "cell_type": "code",
      "metadata": {
        "colab": {
          "base_uri": "https://localhost:8080/"
        },
        "id": "gYNL94NXU4MG",
        "outputId": "0ca89391-1bf2-4830-8604-194586e8a388"
      },
      "source": [
        "X_test.shape"
      ],
      "execution_count": null,
      "outputs": [
        {
          "output_type": "execute_result",
          "data": {
            "text/plain": [
              "(300, 2)"
            ]
          },
          "metadata": {
            "tags": []
          },
          "execution_count": 14
        }
      ]
    },
    {
      "cell_type": "code",
      "metadata": {
        "id": "SgBqciLhU5Hs"
      },
      "source": [
        "from sklearn.preprocessing import MinMaxScaler"
      ],
      "execution_count": null,
      "outputs": []
    },
    {
      "cell_type": "code",
      "metadata": {
        "id": "iChlQNxIVMAG"
      },
      "source": [
        "scaler = MinMaxScaler()"
      ],
      "execution_count": null,
      "outputs": []
    },
    {
      "cell_type": "code",
      "metadata": {
        "colab": {
          "base_uri": "https://localhost:8080/"
        },
        "id": "x7MP2574kIFk",
        "outputId": "12e29569-a1c5-434f-c3b8-167ad9fb2602"
      },
      "source": [
        "scaler.fit(X_train) # Calculates standard deviation, min and max"
      ],
      "execution_count": null,
      "outputs": [
        {
          "output_type": "execute_result",
          "data": {
            "text/plain": [
              "MinMaxScaler(copy=True, feature_range=(0, 1))"
            ]
          },
          "metadata": {
            "tags": []
          },
          "execution_count": 17
        }
      ]
    },
    {
      "cell_type": "code",
      "metadata": {
        "id": "ZAm_z2D-kJww"
      },
      "source": [
        "X_train = scaler.transform(X_train)"
      ],
      "execution_count": null,
      "outputs": []
    },
    {
      "cell_type": "code",
      "metadata": {
        "id": "8_vlXiZYkXdz"
      },
      "source": [
        "X_test = scaler.transform(X_test)"
      ],
      "execution_count": null,
      "outputs": []
    },
    {
      "cell_type": "code",
      "metadata": {
        "id": "UG65FW5GkaGs"
      },
      "source": [
        "from tensorflow.keras.models import Sequential\n",
        "from tensorflow.keras.layers import Dense"
      ],
      "execution_count": null,
      "outputs": []
    },
    {
      "cell_type": "code",
      "metadata": {
        "id": "7mlNMIhxyYLx"
      },
      "source": [
        "model = Sequential()"
      ],
      "execution_count": null,
      "outputs": []
    },
    {
      "cell_type": "code",
      "metadata": {
        "id": "7U8Y8nF1shMO"
      },
      "source": [
        "model.add(Dense(4, activation='relu'))\n",
        "model.add(Dense(4, activation='relu'))\n",
        "model.add(Dense(4, activation='relu'))\n",
        "model.add(Dense(1))\n",
        "model.compile(optimizer='rmsprop', loss='mse')"
      ],
      "execution_count": null,
      "outputs": []
    },
    {
      "cell_type": "code",
      "metadata": {
        "colab": {
          "base_uri": "https://localhost:8080/"
        },
        "id": "gyI7SNxcspdG",
        "outputId": "d615db8d-810e-469b-c39d-6d815c3288b9"
      },
      "source": [
        "model.fit(x=X_train, y=y_train, epochs=250)"
      ],
      "execution_count": null,
      "outputs": [
        {
          "output_type": "stream",
          "text": [
            "Epoch 1/250\n",
            "22/22 [==============================] - 1s 1ms/step - loss: 256676.3438\n",
            "Epoch 2/250\n",
            "22/22 [==============================] - 0s 2ms/step - loss: 256618.6094\n",
            "Epoch 3/250\n",
            "22/22 [==============================] - 0s 2ms/step - loss: 256553.0469\n",
            "Epoch 4/250\n",
            "22/22 [==============================] - 0s 1ms/step - loss: 256473.5781\n",
            "Epoch 5/250\n",
            "22/22 [==============================] - 0s 1ms/step - loss: 256378.5156\n",
            "Epoch 6/250\n",
            "22/22 [==============================] - 0s 1ms/step - loss: 256267.1094\n",
            "Epoch 7/250\n",
            "22/22 [==============================] - 0s 1ms/step - loss: 256139.0781\n",
            "Epoch 8/250\n",
            "22/22 [==============================] - 0s 1ms/step - loss: 255992.5000\n",
            "Epoch 9/250\n",
            "22/22 [==============================] - 0s 1ms/step - loss: 255825.0938\n",
            "Epoch 10/250\n",
            "22/22 [==============================] - 0s 1ms/step - loss: 255635.8594\n",
            "Epoch 11/250\n",
            "22/22 [==============================] - 0s 1ms/step - loss: 255421.3906\n",
            "Epoch 12/250\n",
            "22/22 [==============================] - 0s 1ms/step - loss: 255180.5469\n",
            "Epoch 13/250\n",
            "22/22 [==============================] - 0s 1ms/step - loss: 254912.5312\n",
            "Epoch 14/250\n",
            "22/22 [==============================] - 0s 2ms/step - loss: 254611.9844\n",
            "Epoch 15/250\n",
            "22/22 [==============================] - 0s 1ms/step - loss: 254280.2500\n",
            "Epoch 16/250\n",
            "22/22 [==============================] - 0s 2ms/step - loss: 253914.8750\n",
            "Epoch 17/250\n",
            "22/22 [==============================] - 0s 1ms/step - loss: 253511.5938\n",
            "Epoch 18/250\n",
            "22/22 [==============================] - 0s 1ms/step - loss: 253069.7188\n",
            "Epoch 19/250\n",
            "22/22 [==============================] - 0s 2ms/step - loss: 252585.9844\n",
            "Epoch 20/250\n",
            "22/22 [==============================] - 0s 2ms/step - loss: 252056.7344\n",
            "Epoch 21/250\n",
            "22/22 [==============================] - 0s 1ms/step - loss: 251480.7812\n",
            "Epoch 22/250\n",
            "22/22 [==============================] - 0s 1ms/step - loss: 250854.9531\n",
            "Epoch 23/250\n",
            "22/22 [==============================] - 0s 1ms/step - loss: 250177.5938\n",
            "Epoch 24/250\n",
            "22/22 [==============================] - 0s 2ms/step - loss: 249448.5781\n",
            "Epoch 25/250\n",
            "22/22 [==============================] - 0s 1ms/step - loss: 248665.8438\n",
            "Epoch 26/250\n",
            "22/22 [==============================] - 0s 1ms/step - loss: 247824.2969\n",
            "Epoch 27/250\n",
            "22/22 [==============================] - 0s 1ms/step - loss: 246912.9219\n",
            "Epoch 28/250\n",
            "22/22 [==============================] - 0s 1ms/step - loss: 245935.0469\n",
            "Epoch 29/250\n",
            "22/22 [==============================] - 0s 1ms/step - loss: 244895.0781\n",
            "Epoch 30/250\n",
            "22/22 [==============================] - 0s 1ms/step - loss: 243786.9688\n",
            "Epoch 31/250\n",
            "22/22 [==============================] - 0s 1ms/step - loss: 242604.0469\n",
            "Epoch 32/250\n",
            "22/22 [==============================] - 0s 1ms/step - loss: 241346.5781\n",
            "Epoch 33/250\n",
            "22/22 [==============================] - 0s 1ms/step - loss: 240008.7344\n",
            "Epoch 34/250\n",
            "22/22 [==============================] - 0s 1ms/step - loss: 238592.7812\n",
            "Epoch 35/250\n",
            "22/22 [==============================] - 0s 1ms/step - loss: 237086.7500\n",
            "Epoch 36/250\n",
            "22/22 [==============================] - 0s 1ms/step - loss: 235493.6875\n",
            "Epoch 37/250\n",
            "22/22 [==============================] - 0s 1ms/step - loss: 233822.5156\n",
            "Epoch 38/250\n",
            "22/22 [==============================] - 0s 1ms/step - loss: 232061.4375\n",
            "Epoch 39/250\n",
            "22/22 [==============================] - 0s 1ms/step - loss: 230200.0000\n",
            "Epoch 40/250\n",
            "22/22 [==============================] - 0s 1ms/step - loss: 228236.9531\n",
            "Epoch 41/250\n",
            "22/22 [==============================] - 0s 1ms/step - loss: 226188.3125\n",
            "Epoch 42/250\n",
            "22/22 [==============================] - 0s 1ms/step - loss: 224030.5625\n",
            "Epoch 43/250\n",
            "22/22 [==============================] - 0s 2ms/step - loss: 221776.6875\n",
            "Epoch 44/250\n",
            "22/22 [==============================] - 0s 2ms/step - loss: 219410.6250\n",
            "Epoch 45/250\n",
            "22/22 [==============================] - 0s 1ms/step - loss: 216946.5625\n",
            "Epoch 46/250\n",
            "22/22 [==============================] - 0s 1ms/step - loss: 214351.2656\n",
            "Epoch 47/250\n",
            "22/22 [==============================] - 0s 1ms/step - loss: 211660.2031\n",
            "Epoch 48/250\n",
            "22/22 [==============================] - 0s 1ms/step - loss: 208846.0625\n",
            "Epoch 49/250\n",
            "22/22 [==============================] - 0s 2ms/step - loss: 205938.8750\n",
            "Epoch 50/250\n",
            "22/22 [==============================] - 0s 1ms/step - loss: 202893.7344\n",
            "Epoch 51/250\n",
            "22/22 [==============================] - 0s 1ms/step - loss: 199748.3906\n",
            "Epoch 52/250\n",
            "22/22 [==============================] - 0s 2ms/step - loss: 196483.0469\n",
            "Epoch 53/250\n",
            "22/22 [==============================] - 0s 1ms/step - loss: 193093.2344\n",
            "Epoch 54/250\n",
            "22/22 [==============================] - 0s 1ms/step - loss: 189595.0781\n",
            "Epoch 55/250\n",
            "22/22 [==============================] - 0s 1ms/step - loss: 185973.4688\n",
            "Epoch 56/250\n",
            "22/22 [==============================] - 0s 1ms/step - loss: 182255.2812\n",
            "Epoch 57/250\n",
            "22/22 [==============================] - 0s 1ms/step - loss: 178390.0156\n",
            "Epoch 58/250\n",
            "22/22 [==============================] - 0s 1ms/step - loss: 174427.1719\n",
            "Epoch 59/250\n",
            "22/22 [==============================] - 0s 1ms/step - loss: 170339.2188\n",
            "Epoch 60/250\n",
            "22/22 [==============================] - 0s 1ms/step - loss: 166137.6875\n",
            "Epoch 61/250\n",
            "22/22 [==============================] - 0s 2ms/step - loss: 161840.9531\n",
            "Epoch 62/250\n",
            "22/22 [==============================] - 0s 1ms/step - loss: 157423.9844\n",
            "Epoch 63/250\n",
            "22/22 [==============================] - 0s 1ms/step - loss: 152924.0625\n",
            "Epoch 64/250\n",
            "22/22 [==============================] - 0s 1ms/step - loss: 148280.3125\n",
            "Epoch 65/250\n",
            "22/22 [==============================] - 0s 1ms/step - loss: 143565.9375\n",
            "Epoch 66/250\n",
            "22/22 [==============================] - 0s 1ms/step - loss: 138770.2500\n",
            "Epoch 67/250\n",
            "22/22 [==============================] - 0s 1ms/step - loss: 133867.7969\n",
            "Epoch 68/250\n",
            "22/22 [==============================] - 0s 2ms/step - loss: 128884.1797\n",
            "Epoch 69/250\n",
            "22/22 [==============================] - 0s 1ms/step - loss: 123830.2500\n",
            "Epoch 70/250\n",
            "22/22 [==============================] - 0s 1ms/step - loss: 118717.1641\n",
            "Epoch 71/250\n",
            "22/22 [==============================] - 0s 2ms/step - loss: 113532.2031\n",
            "Epoch 72/250\n",
            "22/22 [==============================] - 0s 2ms/step - loss: 108277.6094\n",
            "Epoch 73/250\n",
            "22/22 [==============================] - 0s 1ms/step - loss: 102967.6562\n",
            "Epoch 74/250\n",
            "22/22 [==============================] - 0s 1ms/step - loss: 97679.3359\n",
            "Epoch 75/250\n",
            "22/22 [==============================] - 0s 1ms/step - loss: 92341.8984\n",
            "Epoch 76/250\n",
            "22/22 [==============================] - 0s 1ms/step - loss: 86978.5547\n",
            "Epoch 77/250\n",
            "22/22 [==============================] - 0s 1ms/step - loss: 81647.1562\n",
            "Epoch 78/250\n",
            "22/22 [==============================] - 0s 1ms/step - loss: 76321.8594\n",
            "Epoch 79/250\n",
            "22/22 [==============================] - 0s 1ms/step - loss: 70984.6016\n",
            "Epoch 80/250\n",
            "22/22 [==============================] - 0s 1ms/step - loss: 65729.2812\n",
            "Epoch 81/250\n",
            "22/22 [==============================] - 0s 1ms/step - loss: 60502.0234\n",
            "Epoch 82/250\n",
            "22/22 [==============================] - 0s 1ms/step - loss: 55412.8906\n",
            "Epoch 83/250\n",
            "22/22 [==============================] - 0s 1ms/step - loss: 50380.8984\n",
            "Epoch 84/250\n",
            "22/22 [==============================] - 0s 2ms/step - loss: 45462.0312\n",
            "Epoch 85/250\n",
            "22/22 [==============================] - 0s 2ms/step - loss: 40657.1133\n",
            "Epoch 86/250\n",
            "22/22 [==============================] - 0s 1ms/step - loss: 36005.8320\n",
            "Epoch 87/250\n",
            "22/22 [==============================] - 0s 1ms/step - loss: 31558.5137\n",
            "Epoch 88/250\n",
            "22/22 [==============================] - 0s 1ms/step - loss: 27327.0938\n",
            "Epoch 89/250\n",
            "22/22 [==============================] - 0s 1ms/step - loss: 23335.6934\n",
            "Epoch 90/250\n",
            "22/22 [==============================] - 0s 1ms/step - loss: 19587.5156\n",
            "Epoch 91/250\n",
            "22/22 [==============================] - 0s 1ms/step - loss: 16114.8418\n",
            "Epoch 92/250\n",
            "22/22 [==============================] - 0s 1ms/step - loss: 12956.3730\n",
            "Epoch 93/250\n",
            "22/22 [==============================] - 0s 1ms/step - loss: 10137.4307\n",
            "Epoch 94/250\n",
            "22/22 [==============================] - 0s 1ms/step - loss: 7677.2407\n",
            "Epoch 95/250\n",
            "22/22 [==============================] - 0s 1ms/step - loss: 5625.4443\n",
            "Epoch 96/250\n",
            "22/22 [==============================] - 0s 2ms/step - loss: 3994.9500\n",
            "Epoch 97/250\n",
            "22/22 [==============================] - 0s 1ms/step - loss: 2783.6106\n",
            "Epoch 98/250\n",
            "22/22 [==============================] - 0s 1ms/step - loss: 1999.4452\n",
            "Epoch 99/250\n",
            "22/22 [==============================] - 0s 2ms/step - loss: 1635.4583\n",
            "Epoch 100/250\n",
            "22/22 [==============================] - 0s 1ms/step - loss: 1519.9985\n",
            "Epoch 101/250\n",
            "22/22 [==============================] - 0s 1ms/step - loss: 1487.7761\n",
            "Epoch 102/250\n",
            "22/22 [==============================] - 0s 1ms/step - loss: 1465.1573\n",
            "Epoch 103/250\n",
            "22/22 [==============================] - 0s 1ms/step - loss: 1438.2681\n",
            "Epoch 104/250\n",
            "22/22 [==============================] - 0s 1ms/step - loss: 1414.6760\n",
            "Epoch 105/250\n",
            "22/22 [==============================] - 0s 1ms/step - loss: 1391.8285\n",
            "Epoch 106/250\n",
            "22/22 [==============================] - 0s 2ms/step - loss: 1369.9917\n",
            "Epoch 107/250\n",
            "22/22 [==============================] - 0s 1ms/step - loss: 1345.2057\n",
            "Epoch 108/250\n",
            "22/22 [==============================] - 0s 2ms/step - loss: 1320.9071\n",
            "Epoch 109/250\n",
            "22/22 [==============================] - 0s 2ms/step - loss: 1300.6450\n",
            "Epoch 110/250\n",
            "22/22 [==============================] - 0s 2ms/step - loss: 1278.6887\n",
            "Epoch 111/250\n",
            "22/22 [==============================] - 0s 1ms/step - loss: 1253.6373\n",
            "Epoch 112/250\n",
            "22/22 [==============================] - 0s 1ms/step - loss: 1231.8474\n",
            "Epoch 113/250\n",
            "22/22 [==============================] - 0s 1ms/step - loss: 1205.6294\n",
            "Epoch 114/250\n",
            "22/22 [==============================] - 0s 1ms/step - loss: 1183.3816\n",
            "Epoch 115/250\n",
            "22/22 [==============================] - 0s 1ms/step - loss: 1161.1310\n",
            "Epoch 116/250\n",
            "22/22 [==============================] - 0s 1ms/step - loss: 1139.5634\n",
            "Epoch 117/250\n",
            "22/22 [==============================] - 0s 2ms/step - loss: 1117.1002\n",
            "Epoch 118/250\n",
            "22/22 [==============================] - 0s 1ms/step - loss: 1095.4164\n",
            "Epoch 119/250\n",
            "22/22 [==============================] - 0s 2ms/step - loss: 1076.3065\n",
            "Epoch 120/250\n",
            "22/22 [==============================] - 0s 1ms/step - loss: 1054.0093\n",
            "Epoch 121/250\n",
            "22/22 [==============================] - 0s 1ms/step - loss: 1033.4128\n",
            "Epoch 122/250\n",
            "22/22 [==============================] - 0s 1ms/step - loss: 1009.4760\n",
            "Epoch 123/250\n",
            "22/22 [==============================] - 0s 1ms/step - loss: 987.9478\n",
            "Epoch 124/250\n",
            "22/22 [==============================] - 0s 1ms/step - loss: 966.5236\n",
            "Epoch 125/250\n",
            "22/22 [==============================] - 0s 1ms/step - loss: 943.3011\n",
            "Epoch 126/250\n",
            "22/22 [==============================] - 0s 2ms/step - loss: 926.0753\n",
            "Epoch 127/250\n",
            "22/22 [==============================] - 0s 1ms/step - loss: 906.2278\n",
            "Epoch 128/250\n",
            "22/22 [==============================] - 0s 1ms/step - loss: 883.7037\n",
            "Epoch 129/250\n",
            "22/22 [==============================] - 0s 1ms/step - loss: 864.1086\n",
            "Epoch 130/250\n",
            "22/22 [==============================] - 0s 1ms/step - loss: 842.9697\n",
            "Epoch 131/250\n",
            "22/22 [==============================] - 0s 1ms/step - loss: 821.1430\n",
            "Epoch 132/250\n",
            "22/22 [==============================] - 0s 1ms/step - loss: 799.7334\n",
            "Epoch 133/250\n",
            "22/22 [==============================] - 0s 2ms/step - loss: 781.2075\n",
            "Epoch 134/250\n",
            "22/22 [==============================] - 0s 2ms/step - loss: 760.9232\n",
            "Epoch 135/250\n",
            "22/22 [==============================] - 0s 2ms/step - loss: 741.5164\n",
            "Epoch 136/250\n",
            "22/22 [==============================] - 0s 2ms/step - loss: 722.9414\n",
            "Epoch 137/250\n",
            "22/22 [==============================] - 0s 1ms/step - loss: 705.6516\n",
            "Epoch 138/250\n",
            "22/22 [==============================] - 0s 2ms/step - loss: 686.5096\n",
            "Epoch 139/250\n",
            "22/22 [==============================] - 0s 2ms/step - loss: 668.8317\n",
            "Epoch 140/250\n",
            "22/22 [==============================] - 0s 1ms/step - loss: 648.6118\n",
            "Epoch 141/250\n",
            "22/22 [==============================] - 0s 1ms/step - loss: 630.4296\n",
            "Epoch 142/250\n",
            "22/22 [==============================] - 0s 1ms/step - loss: 612.5764\n",
            "Epoch 143/250\n",
            "22/22 [==============================] - 0s 1ms/step - loss: 594.8865\n",
            "Epoch 144/250\n",
            "22/22 [==============================] - 0s 2ms/step - loss: 579.9296\n",
            "Epoch 145/250\n",
            "22/22 [==============================] - 0s 2ms/step - loss: 564.8204\n",
            "Epoch 146/250\n",
            "22/22 [==============================] - 0s 2ms/step - loss: 548.7957\n",
            "Epoch 147/250\n",
            "22/22 [==============================] - 0s 1ms/step - loss: 532.7883\n",
            "Epoch 148/250\n",
            "22/22 [==============================] - 0s 2ms/step - loss: 519.4099\n",
            "Epoch 149/250\n",
            "22/22 [==============================] - 0s 1ms/step - loss: 504.2076\n",
            "Epoch 150/250\n",
            "22/22 [==============================] - 0s 1ms/step - loss: 487.1223\n",
            "Epoch 151/250\n",
            "22/22 [==============================] - 0s 2ms/step - loss: 472.1670\n",
            "Epoch 152/250\n",
            "22/22 [==============================] - 0s 2ms/step - loss: 455.7725\n",
            "Epoch 153/250\n",
            "22/22 [==============================] - 0s 2ms/step - loss: 441.0228\n",
            "Epoch 154/250\n",
            "22/22 [==============================] - 0s 2ms/step - loss: 429.1963\n",
            "Epoch 155/250\n",
            "22/22 [==============================] - 0s 1ms/step - loss: 413.2182\n",
            "Epoch 156/250\n",
            "22/22 [==============================] - 0s 1ms/step - loss: 398.6016\n",
            "Epoch 157/250\n",
            "22/22 [==============================] - 0s 1ms/step - loss: 383.4179\n",
            "Epoch 158/250\n",
            "22/22 [==============================] - 0s 1ms/step - loss: 369.0511\n",
            "Epoch 159/250\n",
            "22/22 [==============================] - 0s 1ms/step - loss: 354.3870\n",
            "Epoch 160/250\n",
            "22/22 [==============================] - 0s 1ms/step - loss: 340.9539\n",
            "Epoch 161/250\n",
            "22/22 [==============================] - 0s 1ms/step - loss: 327.5930\n",
            "Epoch 162/250\n",
            "22/22 [==============================] - 0s 2ms/step - loss: 315.3230\n",
            "Epoch 163/250\n",
            "22/22 [==============================] - 0s 1ms/step - loss: 304.8599\n",
            "Epoch 164/250\n",
            "22/22 [==============================] - 0s 1ms/step - loss: 291.9495\n",
            "Epoch 165/250\n",
            "22/22 [==============================] - 0s 1ms/step - loss: 281.5530\n",
            "Epoch 166/250\n",
            "22/22 [==============================] - 0s 1ms/step - loss: 270.0306\n",
            "Epoch 167/250\n",
            "22/22 [==============================] - 0s 2ms/step - loss: 258.9924\n",
            "Epoch 168/250\n",
            "22/22 [==============================] - 0s 2ms/step - loss: 248.1191\n",
            "Epoch 169/250\n",
            "22/22 [==============================] - 0s 1ms/step - loss: 238.1861\n",
            "Epoch 170/250\n",
            "22/22 [==============================] - 0s 1ms/step - loss: 226.4536\n",
            "Epoch 171/250\n",
            "22/22 [==============================] - 0s 1ms/step - loss: 217.2473\n",
            "Epoch 172/250\n",
            "22/22 [==============================] - 0s 2ms/step - loss: 208.1301\n",
            "Epoch 173/250\n",
            "22/22 [==============================] - 0s 2ms/step - loss: 198.5889\n",
            "Epoch 174/250\n",
            "22/22 [==============================] - 0s 1ms/step - loss: 190.4860\n",
            "Epoch 175/250\n",
            "22/22 [==============================] - 0s 1ms/step - loss: 182.0083\n",
            "Epoch 176/250\n",
            "22/22 [==============================] - 0s 1ms/step - loss: 173.9437\n",
            "Epoch 177/250\n",
            "22/22 [==============================] - 0s 1ms/step - loss: 165.9868\n",
            "Epoch 178/250\n",
            "22/22 [==============================] - 0s 2ms/step - loss: 158.5275\n",
            "Epoch 179/250\n",
            "22/22 [==============================] - 0s 2ms/step - loss: 150.4242\n",
            "Epoch 180/250\n",
            "22/22 [==============================] - 0s 1ms/step - loss: 143.4280\n",
            "Epoch 181/250\n",
            "22/22 [==============================] - 0s 2ms/step - loss: 136.2943\n",
            "Epoch 182/250\n",
            "22/22 [==============================] - 0s 1ms/step - loss: 129.6353\n",
            "Epoch 183/250\n",
            "22/22 [==============================] - 0s 2ms/step - loss: 122.5490\n",
            "Epoch 184/250\n",
            "22/22 [==============================] - 0s 2ms/step - loss: 117.2324\n",
            "Epoch 185/250\n",
            "22/22 [==============================] - 0s 1ms/step - loss: 111.0988\n",
            "Epoch 186/250\n",
            "22/22 [==============================] - 0s 2ms/step - loss: 105.0072\n",
            "Epoch 187/250\n",
            "22/22 [==============================] - 0s 1ms/step - loss: 99.2911\n",
            "Epoch 188/250\n",
            "22/22 [==============================] - 0s 1ms/step - loss: 93.1494\n",
            "Epoch 189/250\n",
            "22/22 [==============================] - 0s 2ms/step - loss: 88.1023\n",
            "Epoch 190/250\n",
            "22/22 [==============================] - 0s 1ms/step - loss: 82.5662\n",
            "Epoch 191/250\n",
            "22/22 [==============================] - 0s 1ms/step - loss: 77.5135\n",
            "Epoch 192/250\n",
            "22/22 [==============================] - 0s 2ms/step - loss: 72.4723\n",
            "Epoch 193/250\n",
            "22/22 [==============================] - 0s 2ms/step - loss: 68.0849\n",
            "Epoch 194/250\n",
            "22/22 [==============================] - 0s 1ms/step - loss: 63.7452\n",
            "Epoch 195/250\n",
            "22/22 [==============================] - 0s 1ms/step - loss: 60.0662\n",
            "Epoch 196/250\n",
            "22/22 [==============================] - 0s 1ms/step - loss: 56.4170\n",
            "Epoch 197/250\n",
            "22/22 [==============================] - 0s 2ms/step - loss: 53.2943\n",
            "Epoch 198/250\n",
            "22/22 [==============================] - 0s 2ms/step - loss: 50.3634\n",
            "Epoch 199/250\n",
            "22/22 [==============================] - 0s 2ms/step - loss: 47.8463\n",
            "Epoch 200/250\n",
            "22/22 [==============================] - 0s 1ms/step - loss: 45.5408\n",
            "Epoch 201/250\n",
            "22/22 [==============================] - 0s 2ms/step - loss: 43.1792\n",
            "Epoch 202/250\n",
            "22/22 [==============================] - 0s 1ms/step - loss: 40.9186\n",
            "Epoch 203/250\n",
            "22/22 [==============================] - 0s 2ms/step - loss: 39.4342\n",
            "Epoch 204/250\n",
            "22/22 [==============================] - 0s 1ms/step - loss: 37.3659\n",
            "Epoch 205/250\n",
            "22/22 [==============================] - 0s 1ms/step - loss: 35.5231\n",
            "Epoch 206/250\n",
            "22/22 [==============================] - 0s 1ms/step - loss: 34.5145\n",
            "Epoch 207/250\n",
            "22/22 [==============================] - 0s 1ms/step - loss: 33.3331\n",
            "Epoch 208/250\n",
            "22/22 [==============================] - 0s 1ms/step - loss: 32.6131\n",
            "Epoch 209/250\n",
            "22/22 [==============================] - 0s 1ms/step - loss: 31.5274\n",
            "Epoch 210/250\n",
            "22/22 [==============================] - 0s 2ms/step - loss: 30.2366\n",
            "Epoch 211/250\n",
            "22/22 [==============================] - 0s 1ms/step - loss: 29.6539\n",
            "Epoch 212/250\n",
            "22/22 [==============================] - 0s 1ms/step - loss: 28.6446\n",
            "Epoch 213/250\n",
            "22/22 [==============================] - 0s 1ms/step - loss: 28.1300\n",
            "Epoch 214/250\n",
            "22/22 [==============================] - 0s 2ms/step - loss: 27.4407\n",
            "Epoch 215/250\n",
            "22/22 [==============================] - 0s 2ms/step - loss: 26.6414\n",
            "Epoch 216/250\n",
            "22/22 [==============================] - 0s 2ms/step - loss: 26.8334\n",
            "Epoch 217/250\n",
            "22/22 [==============================] - 0s 2ms/step - loss: 26.3123\n",
            "Epoch 218/250\n",
            "22/22 [==============================] - 0s 2ms/step - loss: 25.8791\n",
            "Epoch 219/250\n",
            "22/22 [==============================] - 0s 1ms/step - loss: 25.6799\n",
            "Epoch 220/250\n",
            "22/22 [==============================] - 0s 1ms/step - loss: 25.3226\n",
            "Epoch 221/250\n",
            "22/22 [==============================] - 0s 2ms/step - loss: 25.2594\n",
            "Epoch 222/250\n",
            "22/22 [==============================] - 0s 1ms/step - loss: 25.2595\n",
            "Epoch 223/250\n",
            "22/22 [==============================] - 0s 1ms/step - loss: 24.9974\n",
            "Epoch 224/250\n",
            "22/22 [==============================] - 0s 2ms/step - loss: 24.8869\n",
            "Epoch 225/250\n",
            "22/22 [==============================] - 0s 2ms/step - loss: 24.7561\n",
            "Epoch 226/250\n",
            "22/22 [==============================] - 0s 1ms/step - loss: 24.5426\n",
            "Epoch 227/250\n",
            "22/22 [==============================] - 0s 2ms/step - loss: 24.7260\n",
            "Epoch 228/250\n",
            "22/22 [==============================] - 0s 2ms/step - loss: 24.4819\n",
            "Epoch 229/250\n",
            "22/22 [==============================] - 0s 1ms/step - loss: 24.6208\n",
            "Epoch 230/250\n",
            "22/22 [==============================] - 0s 1ms/step - loss: 24.4885\n",
            "Epoch 231/250\n",
            "22/22 [==============================] - 0s 2ms/step - loss: 24.5928\n",
            "Epoch 232/250\n",
            "22/22 [==============================] - 0s 2ms/step - loss: 24.7978\n",
            "Epoch 233/250\n",
            "22/22 [==============================] - 0s 2ms/step - loss: 24.3134\n",
            "Epoch 234/250\n",
            "22/22 [==============================] - 0s 1ms/step - loss: 24.0524\n",
            "Epoch 235/250\n",
            "22/22 [==============================] - 0s 2ms/step - loss: 24.6200\n",
            "Epoch 236/250\n",
            "22/22 [==============================] - 0s 2ms/step - loss: 24.4635\n",
            "Epoch 237/250\n",
            "22/22 [==============================] - 0s 1ms/step - loss: 24.2045\n",
            "Epoch 238/250\n",
            "22/22 [==============================] - 0s 1ms/step - loss: 24.0508\n",
            "Epoch 239/250\n",
            "22/22 [==============================] - 0s 1ms/step - loss: 24.3247\n",
            "Epoch 240/250\n",
            "22/22 [==============================] - 0s 1ms/step - loss: 24.5372\n",
            "Epoch 241/250\n",
            "22/22 [==============================] - 0s 1ms/step - loss: 24.5256\n",
            "Epoch 242/250\n",
            "22/22 [==============================] - 0s 1ms/step - loss: 24.2721\n",
            "Epoch 243/250\n",
            "22/22 [==============================] - 0s 1ms/step - loss: 24.0909\n",
            "Epoch 244/250\n",
            "22/22 [==============================] - 0s 1ms/step - loss: 24.2526\n",
            "Epoch 245/250\n",
            "22/22 [==============================] - 0s 2ms/step - loss: 23.9730\n",
            "Epoch 246/250\n",
            "22/22 [==============================] - 0s 1ms/step - loss: 24.1599\n",
            "Epoch 247/250\n",
            "22/22 [==============================] - 0s 1ms/step - loss: 24.3782\n",
            "Epoch 248/250\n",
            "22/22 [==============================] - 0s 1ms/step - loss: 24.1839\n",
            "Epoch 249/250\n",
            "22/22 [==============================] - 0s 2ms/step - loss: 24.3826\n",
            "Epoch 250/250\n",
            "22/22 [==============================] - 0s 2ms/step - loss: 24.0565\n"
          ],
          "name": "stdout"
        },
        {
          "output_type": "execute_result",
          "data": {
            "text/plain": [
              "<tensorflow.python.keras.callbacks.History at 0x7f9224357dd0>"
            ]
          },
          "metadata": {
            "tags": []
          },
          "execution_count": 23
        }
      ]
    },
    {
      "cell_type": "code",
      "metadata": {
        "id": "MRI_SFQwu6Iv"
      },
      "source": [
        "loss_df = pd.DataFrame(model.history.history)"
      ],
      "execution_count": null,
      "outputs": []
    },
    {
      "cell_type": "code",
      "metadata": {
        "id": "0NSNsEuGvlKF",
        "colab": {
          "base_uri": "https://localhost:8080/",
          "height": 283
        },
        "outputId": "4b68361d-e59f-4f3b-eeb6-2b9474745b1a"
      },
      "source": [
        "loss_df.plot()"
      ],
      "execution_count": null,
      "outputs": [
        {
          "output_type": "execute_result",
          "data": {
            "text/plain": [
              "<matplotlib.axes._subplots.AxesSubplot at 0x7f921bf8e990>"
            ]
          },
          "metadata": {
            "tags": []
          },
          "execution_count": 25
        },
        {
          "output_type": "display_data",
          "data": {
            "image/png": "[encoded data removed]",
            "text/plain": [
              "<Figure size 432x288 with 1 Axes>"
            ]
          },
          "metadata": {
            "tags": [],
            "needs_background": "light"
          }
        }
      ]
    },
    {
      "cell_type": "code",
      "metadata": {
        "id": "rTkxQdXgwne5",
        "colab": {
          "base_uri": "https://localhost:8080/"
        },
        "outputId": "19c5aedd-9f2d-4040-f8db-ddb2299ec6d9"
      },
      "source": [
        "model.evaluate(X_test, y_test)"
      ],
      "execution_count": null,
      "outputs": [
        {
          "output_type": "stream",
          "text": [
            "10/10 [==============================] - 0s 1ms/step - loss: 25.0353\n"
          ],
          "name": "stdout"
        },
        {
          "output_type": "execute_result",
          "data": {
            "text/plain": [
              "25.0352783203125"
            ]
          },
          "metadata": {
            "tags": []
          },
          "execution_count": 27
        }
      ]
    },
    {
      "cell_type": "code",
      "metadata": {
        "id": "eCBULIZitayr"
      },
      "source": [
        "test_predictions = model.predict(X_test)\n",
        "test_predictions = pd.Series(test_predictions.reshape(300,))"
      ],
      "execution_count": null,
      "outputs": []
    },
    {
      "cell_type": "code",
      "metadata": {
        "colab": {
          "base_uri": "https://localhost:8080/"
        },
        "id": "khJ3tUiyufVV",
        "outputId": "1dd9dc18-0562-4e6b-d7ea-fafff7747742"
      },
      "source": [
        "pred_df = pd.DataFrame(y_test, columns = ['Test True Y'])\n",
        "pred_df = pd.concat([pred_df, test_predictions], axis=1)"
      ],
      "execution_count": null,
      "outputs": [
        {
          "output_type": "stream",
          "text": [
            "/usr/local/lib/python3.7/dist-packages/ipykernel_launcher.py:3: UserWarning: Pandas doesn't allow columns to be created via a new attribute name - see https://pandas.pydata.org/pandas-docs/stable/indexing.html#attribute-access\n",
            "  This is separate from the ipykernel package so we can avoid doing imports until\n"
          ],
          "name": "stderr"
        }
      ]
    },
    {
      "cell_type": "code",
      "metadata": {
        "colab": {
          "base_uri": "https://localhost:8080/",
          "height": 297
        },
        "id": "73VigBU4usQv",
        "outputId": "e45d3d9a-fab2-4eb3-af01-ad920aa1cc46"
      },
      "source": [
        "sns.scatterplot(x='Test True Y', y=0, data=pred_df)"
      ],
      "execution_count": null,
      "outputs": [
        {
          "output_type": "execute_result",
          "data": {
            "text/plain": [
              "<matplotlib.axes._subplots.AxesSubplot at 0x7f9216a54b10>"
            ]
          },
          "metadata": {
            "tags": []
          },
          "execution_count": 41
        },
        {
          "output_type": "display_data",
          "data": {
            "image/png": "[encoded data removed]",
            "text/plain": [
              "<Figure size 432x288 with 1 Axes>"
            ]
          },
          "metadata": {
            "tags": [],
            "needs_background": "light"
          }
        }
      ]
    },
    {
      "cell_type": "code",
      "metadata": {
        "colab": {
          "base_uri": "https://localhost:8080/"
        },
        "id": "JMirc-acvZSJ",
        "outputId": "d5b0b4fb-248e-4d03-eb3a-ef4bd8c181f0"
      },
      "source": [
        "from sklearn.metrics import mean_absolute_error, mean_squared_error\n",
        "print(mean_absolute_error(pred_df['Test True Y'], pred_df[0]))\n",
        "print(mean_squared_error(pred_df['Test True Y'], pred_df[0]))"
      ],
      "execution_count": null,
      "outputs": [
        {
          "output_type": "stream",
          "text": [
            "4.012232641008688\n",
            "25.03528209366822\n"
          ],
          "name": "stdout"
        }
      ]
    },
    {
      "cell_type": "code",
      "metadata": {
        "colab": {
          "base_uri": "https://localhost:8080/"
        },
        "id": "E3dLDcQgyqSY",
        "outputId": "15de4d02-a627-4b58-bcd4-ad2007dcb776"
      },
      "source": [
        "new_item = [[998,1000]]\n",
        "new_item = scaler.transform(new_item)\n",
        "model.predict(new_item)"
      ],
      "execution_count": null,
      "outputs": [
        {
          "output_type": "execute_result",
          "data": {
            "text/plain": [
              "array([[419.9815]], dtype=float32)"
            ]
          },
          "metadata": {
            "tags": []
          },
          "execution_count": 46
        }
      ]
    },
    {
      "cell_type": "code",
      "metadata": {
        "id": "Y0zHAuYTzWfu"
      },
      "source": [
        "from tensorflow.keras.models import load_model"
      ],
      "execution_count": null,
      "outputs": []
    },
    {
      "cell_type": "code",
      "metadata": {
        "id": "Pt-8JzrWzjH0"
      },
      "source": [
        "model.save('my_model.h5')"
      ],
      "execution_count": null,
      "outputs": []
    },
    {
      "cell_type": "code",
      "metadata": {
        "id": "Tll0_l-9zn6c"
      },
      "source": [
        "later_model = load_model('my_model.h5')"
      ],
      "execution_count": null,
      "outputs": []
    },
    {
      "cell_type": "code",
      "metadata": {
        "colab": {
          "base_uri": "https://localhost:8080/"
        },
        "id": "cDbBvXvGzq-w",
        "outputId": "23ff8264-e67f-4b08-f68e-40e754050077"
      },
      "source": [
        "later_model.predict(new_item)"
      ],
      "execution_count": null,
      "outputs": [
        {
          "output_type": "execute_result",
          "data": {
            "text/plain": [
              "array([[419.9815]], dtype=float32)"
            ]
          },
          "metadata": {
            "tags": []
          },
          "execution_count": 50
        }
      ]
    },
    {
      "cell_type": "code",
      "metadata": {
        "id": "z3F-mimGztVg"
      },
      "source": [
        ""
      ],
      "execution_count": null,
      "outputs": []
    }
  ]
}